{
 "cells": [
  {
   "cell_type": "markdown",
   "id": "ee682163",
   "metadata": {},
   "source": [
    "# Reconhecimento de digitos"
   ]
  },
  {
   "cell_type": "code",
   "execution_count": 2,
   "id": "15ab0ea8",
   "metadata": {},
   "outputs": [],
   "source": [
    "from sklearn import datasets\n",
    "\n",
    "digits = datasets.load_digits()"
   ]
  },
  {
   "cell_type": "code",
   "execution_count": 4,
   "id": "97f7930e",
   "metadata": {},
   "outputs": [
    {
     "name": "stdout",
     "output_type": "stream",
     "text": [
      "(1797, 64)\n",
      "(1797,)\n"
     ]
    }
   ],
   "source": [
    "print(digits.data.shape)\n",
    "print(digits.target.shape)"
   ]
  },
  {
   "cell_type": "code",
   "execution_count": 12,
   "id": "c30123ff",
   "metadata": {},
   "outputs": [
    {
     "name": "stdout",
     "output_type": "stream",
     "text": [
      "[[ 0.  2. 13. 16. 16. 16. 11.  0.]\n",
      " [ 0.  5. 16. 10.  5.  4.  1.  0.]\n",
      " [ 0.  6. 16.  7.  3.  0.  0.  0.]\n",
      " [ 0.  9. 16. 16. 16.  6.  0.  0.]\n",
      " [ 0.  3.  8.  4. 11. 15.  0.  0.]\n",
      " [ 0.  0.  0.  1. 12. 15.  0.  0.]\n",
      " [ 0.  0.  4. 13. 16.  6.  0.  0.]\n",
      " [ 0.  2. 16. 15.  8.  0.  0.  0.]]\n"
     ]
    }
   ],
   "source": [
    "#Como é a imagem\n",
    "print(digits.images[32])"
   ]
  },
  {
   "cell_type": "code",
   "execution_count": 8,
   "id": "e74ff619",
   "metadata": {},
   "outputs": [],
   "source": [
    "import matplotlib.pyplot as plt"
   ]
  },
  {
   "cell_type": "code",
   "execution_count": 10,
   "id": "22ad0ed5",
   "metadata": {},
   "outputs": [],
   "source": [
    "%matplotlib inline"
   ]
  },
  {
   "cell_type": "code",
   "execution_count": 14,
   "id": "f1c64a52",
   "metadata": {},
   "outputs": [
    {
     "data": {
      "text/plain": [
       "<matplotlib.image.AxesImage at 0x1f028af3f40>"
      ]
     },
     "execution_count": 14,
     "metadata": {},
     "output_type": "execute_result"
    },
    {
     "data": {
      "image/png": "[encoded data removed]",
      "text/plain": [
       "<Figure size 200x200 with 1 Axes>"
      ]
     },
     "metadata": {},
     "output_type": "display_data"
    }
   ],
   "source": [
    "plt.figure(figsize=(2,2))\n",
    "plt.imshow(digits.images[32], cmap=plt.cm.gray_r)"
   ]
  },
  {
   "cell_type": "markdown",
   "id": "4c34f623",
   "metadata": {},
   "source": [
    "### Aplicação do SVM\n",
    "#### O SVM traça uma reta separandos os grupos de pontoso valor que voce deseja saber vai estar de um lado da reta, isso significa que ele pertence aquele grupo que esta aquele lado da reta, a reta é dividido mantendo as ditancias iguais dos pontos mais proximos da reta chamada de margin"
   ]
  },
  {
   "cell_type": "code",
   "execution_count": 19,
   "id": "e59484f0",
   "metadata": {},
   "outputs": [],
   "source": [
    "from sklearn.model_selection import train_test_split\n",
    "\n",
    "x = digits.data\n",
    "y = digits.target\n",
    "\n",
    "x_train, x_test, y_train, y_test = train_test_split(x,y, test_size=0.30, random_state=5)\n"
   ]
  },
  {
   "cell_type": "code",
   "execution_count": 21,
   "id": "d44a64ab",
   "metadata": {},
   "outputs": [],
   "source": [
    "from sklearn import svm\n",
    "\n",
    "classifier = svm.SVC()\n",
    "\n",
    "classifier.fit(x_train,y_train)\n",
    "\n",
    "previsoes = classifier.predict(x_test)"
   ]
  },
  {
   "cell_type": "code",
   "execution_count": 47,
   "id": "b0886790",
   "metadata": {},
   "outputs": [
    {
     "name": "stdout",
     "output_type": "stream",
     "text": [
      "Precisao de acerto do modelo : 99.0%\n"
     ]
    }
   ],
   "source": [
    "# Classificação da performance de precisão\n",
    "\n",
    "from sklearn import metrics\n",
    "\n",
    "acertos = metrics.accuracy_score(y_test, previsoes)\n",
    "\n",
    "print(f'Precisao de acerto do modelo : {round(acertos*100,0)}%')"
   ]
  },
  {
   "cell_type": "markdown",
   "id": "1a5dcf8b",
   "metadata": {},
   "source": [
    "# Leitura da imagem de um dígito"
   ]
  },
  {
   "cell_type": "code",
   "execution_count": 31,
   "id": "877e1d8b",
   "metadata": {},
   "outputs": [
    {
     "name": "stdout",
     "output_type": "stream",
     "text": [
      "[[[1.         1.         1.        ]\n",
      "  [1.         1.         1.        ]\n",
      "  [1.         1.         1.        ]\n",
      "  [0.8156863  0.8156863  0.8156863 ]\n",
      "  [0.02745098 0.02745098 0.02745098]\n",
      "  [0.69411767 0.69411767 0.69411767]\n",
      "  [1.         1.         1.        ]\n",
      "  [1.         1.         1.        ]]\n",
      "\n",
      " [[1.         1.         1.        ]\n",
      "  [1.         1.         1.        ]\n",
      "  [0.69411767 0.69411767 0.69411767]\n",
      "  [0.02745098 0.02745098 0.02745098]\n",
      "  [0.         0.         0.        ]\n",
      "  [0.5019608  0.5019608  0.5019608 ]\n",
      "  [1.         1.         1.        ]\n",
      "  [1.         1.         1.        ]]\n",
      "\n",
      " [[0.9372549  0.9372549  0.9372549 ]\n",
      "  [0.3764706  0.3764706  0.3764706 ]\n",
      "  [0.         0.         0.        ]\n",
      "  [0.30980393 0.30980393 0.30980393]\n",
      "  [0.         0.         0.        ]\n",
      "  [0.69411767 0.69411767 0.69411767]\n",
      "  [1.         1.         1.        ]\n",
      "  [1.         1.         1.        ]]\n",
      "\n",
      " [[0.5647059  0.5647059  0.5647059 ]\n",
      "  [0.02745098 0.02745098 0.02745098]\n",
      "  [0.627451   0.627451   0.627451  ]\n",
      "  [1.         1.         1.        ]\n",
      "  [0.         0.         0.        ]\n",
      "  [0.7529412  0.7529412  0.7529412 ]\n",
      "  [1.         1.         1.        ]\n",
      "  [1.         1.         1.        ]]\n",
      "\n",
      " [[1.         1.         1.        ]\n",
      "  [1.         1.         1.        ]\n",
      "  [1.         1.         1.        ]\n",
      "  [0.8156863  0.8156863  0.8156863 ]\n",
      "  [0.         0.         0.        ]\n",
      "  [0.8156863  0.8156863  0.8156863 ]\n",
      "  [1.         1.         1.        ]\n",
      "  [1.         1.         1.        ]]\n",
      "\n",
      " [[1.         1.         1.        ]\n",
      "  [1.         1.         1.        ]\n",
      "  [1.         1.         1.        ]\n",
      "  [0.7529412  0.7529412  0.7529412 ]\n",
      "  [0.         0.         0.        ]\n",
      "  [1.         1.         1.        ]\n",
      "  [1.         1.         1.        ]\n",
      "  [1.         1.         1.        ]]\n",
      "\n",
      " [[1.         1.         1.        ]\n",
      "  [1.         1.         1.        ]\n",
      "  [1.         1.         1.        ]\n",
      "  [0.5019608  0.5019608  0.5019608 ]\n",
      "  [0.02745098 0.02745098 0.02745098]\n",
      "  [1.         1.         1.        ]\n",
      "  [1.         1.         1.        ]\n",
      "  [1.         1.         1.        ]]\n",
      "\n",
      " [[1.         1.         1.        ]\n",
      "  [1.         1.         1.        ]\n",
      "  [1.         1.         1.        ]\n",
      "  [0.5019608  0.5019608  0.5019608 ]\n",
      "  [0.24313726 0.24313726 0.24313726]\n",
      "  [1.         1.         1.        ]\n",
      "  [1.         1.         1.        ]\n",
      "  [1.         1.         1.        ]]]\n"
     ]
    }
   ],
   "source": [
    "import numpy as np\n",
    "import matplotlib.image as mpimg\n",
    "\n",
    "img = mpimg.imread('number.png')\n",
    "print(img)"
   ]
  },
  {
   "cell_type": "code",
   "execution_count": 50,
   "id": "07fefdb6",
   "metadata": {},
   "outputs": [
    {
     "name": "stdout",
     "output_type": "stream",
     "text": [
      "[[ 0  0  0  2 15  4  0  0]\n",
      " [ 0  0  4 15 16  7  0  0]\n",
      " [ 1  9 16 11 16  4  0  0]\n",
      " [ 6 15  5  0 16  3  0  0]\n",
      " [ 0  0  0  2 16  2  0  0]\n",
      " [ 0  0  0  3 16  0  0  0]\n",
      " [ 0  0  0  7 15  0  0  0]\n",
      " [ 0  0  0  7 12  0  0  0]]\n"
     ]
    },
    {
     "data": {
      "text/plain": [
       "array([ 0,  0,  0,  2, 15,  4,  0,  0,  0,  0,  4, 15, 16,  7,  0,  0,  1,\n",
       "        9, 16, 11, 16,  4,  0,  0,  6, 15,  5,  0, 16,  3,  0,  0,  0,  0,\n",
       "        0,  2, 16,  2,  0,  0,  0,  0,  0,  3, 16,  0,  0,  0,  0,  0,  0,\n",
       "        7, 15,  0,  0,  0,  0,  0,  0,  7, 12,  0,  0,  0])"
      ]
     },
     "execution_count": 50,
     "metadata": {},
     "output_type": "execute_result"
    }
   ],
   "source": [
    "#O valores zeros é branco a intensidade de cor vai aumentando\n",
    "#16 é o maximo que é o preto absoluto\n",
    "def rgb2gray(rgb):\n",
    "    img_array = np.dot(rgb[...,:3],[0.299,0.587,0.114])\n",
    "    img_array = (16-(img_array * 16)).astype(int)\n",
    "    print(img_array)\n",
    "    img_array = img_array.flatten()\n",
    "\n",
    "    return img_array\n",
    "    \n",
    "rgb2gray(img)"
   ]
  },
  {
   "cell_type": "code",
   "execution_count": 42,
   "id": "010c5a5d",
   "metadata": {},
   "outputs": [
    {
     "name": "stdout",
     "output_type": "stream",
     "text": [
      "[[ 0  0  0  2 15  4  0  0]\n",
      " [ 0  0  4 15 16  7  0  0]\n",
      " [ 1  9 16 11 16  4  0  0]\n",
      " [ 6 15  5  0 16  3  0  0]\n",
      " [ 0  0  0  2 16  2  0  0]\n",
      " [ 0  0  0  3 16  0  0  0]\n",
      " [ 0  0  0  7 15  0  0  0]\n",
      " [ 0  0  0  7 12  0  0  0]]\n"
     ]
    }
   ],
   "source": [
    "previsao = classifier.predict([rgb2gray(img)])"
   ]
  },
  {
   "cell_type": "code",
   "execution_count": 43,
   "id": "3e9af7e9",
   "metadata": {},
   "outputs": [
    {
     "name": "stdout",
     "output_type": "stream",
     "text": [
      "[1]\n"
     ]
    }
   ],
   "source": [
    "#Verificando se o valor da imagem bate com o resultado fornecido\n",
    "#pelo modelo\n",
    "print(previsao)"
   ]
  },
  {
   "cell_type": "markdown",
   "id": "83674959",
   "metadata": {},
   "source": [
    "### Utilizando outro modelo estatistico de regressão logistica"
   ]
  },
  {
   "cell_type": "code",
   "execution_count": 48,
   "id": "477a5691",
   "metadata": {},
   "outputs": [
    {
     "name": "stdout",
     "output_type": "stream",
     "text": [
      "Precisao de acerto do modelo 96.0%\n"
     ]
    },
    {
     "name": "stderr",
     "output_type": "stream",
     "text": [
      "C:\\Users\\user\\anaconda3\\lib\\site-packages\\sklearn\\linear_model\\_logistic.py:458: ConvergenceWarning: lbfgs failed to converge (status=1):\n",
      "STOP: TOTAL NO. of ITERATIONS REACHED LIMIT.\n",
      "\n",
      "Increase the number of iterations (max_iter) or scale the data as shown in:\n",
      "    https://scikit-learn.org/stable/modules/preprocessing.html\n",
      "Please also refer to the documentation for alternative solver options:\n",
      "    https://scikit-learn.org/stable/modules/linear_model.html#logistic-regression\n",
      "  n_iter_i = _check_optimize_result(\n"
     ]
    }
   ],
   "source": [
    "from sklearn.linear_model import LogisticRegression\n",
    "\n",
    "logreg = LogisticRegression()\n",
    "logreg.fit(x_train,y_train)\n",
    "previsoes_log_reg = logreg.predict(x_test)\n",
    "acertos_logreg = metrics.accuracy_score(y_test,previsoes_log_reg)\n",
    "print(f'Precisao de acerto do modelo {round(acertos_logreg * 100, 0)}%')"
   ]
  },
  {
   "cell_type": "code",
   "execution_count": 51,
   "id": "bfdbd52a",
   "metadata": {},
   "outputs": [
    {
     "name": "stdout",
     "output_type": "stream",
     "text": [
      "[[ 0  0  0  2 15  4  0  0]\n",
      " [ 0  0  4 15 16  7  0  0]\n",
      " [ 1  9 16 11 16  4  0  0]\n",
      " [ 6 15  5  0 16  3  0  0]\n",
      " [ 0  0  0  2 16  2  0  0]\n",
      " [ 0  0  0  3 16  0  0  0]\n",
      " [ 0  0  0  7 15  0  0  0]\n",
      " [ 0  0  0  7 12  0  0  0]]\n",
      "Informando o numero da imagem [1]\n"
     ]
    }
   ],
   "source": [
    "#Fazendo a previsao do arquivo de imagem\n",
    "previsao_logreg = logreg.predict([rgb2gray(img)])\n",
    "print(f'Informando o numero da imagem {previsao_logreg}')"
   ]
  }
 ],
 "metadata": {
  "kernelspec": {
   "display_name": "Python 3 (ipykernel)",
   "language": "python",
   "name": "python3"
  },
  "language_info": {
   "codemirror_mode": {
    "name": "ipython",
    "version": 3
   },
   "file_extension": ".py",
   "mimetype": "text/x-python",
   "name": "python",
   "nbconvert_exporter": "python",
   "pygments_lexer": "ipython3",
   "version": "3.10.9"
  }
 },
 "nbformat": 4,
 "nbformat_minor": 5
}
